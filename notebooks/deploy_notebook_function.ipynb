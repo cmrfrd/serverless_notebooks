{
 "cells": [
  {
   "cell_type": "code",
   "execution_count": 18,
   "metadata": {},
   "outputs": [
    {
     "name": "stdout",
     "output_type": "stream",
     "text": [
      "REPOSITORY                                 TAG                 IMAGE ID            CREATED             SIZE\n",
      "func-string-test                           latest              59891a47bd5d        7 minutes ago       9.19GB\n",
      "serverless_datascience                     dev                 d8ebfd35bb43        8 minutes ago       9.89GB\n",
      "<none>                                     <none>              be799477dc50        10 minutes ago      9.89GB\n",
      "<none>                                     <none>              ae64a43767e3        12 minutes ago      9.89GB\n",
      "<none>                                     <none>              a5c7c0bbd02e        23 minutes ago      9.19GB\n",
      "<none>                                     <none>              621049f255a1        24 minutes ago      9.64GB\n",
      "serverless_datascience                     base                fc1efc9d54da        27 minutes ago      9.19GB\n",
      "jupyter/scipy-notebook                     latest              b954585cd8c0        5 days ago          4.87GB\n",
      "gcr.io/kubernetes-helm/tiller              v2.12.1             def589f37fc4        2 weeks ago         81.4MB\n",
      "openfaas/faas-netes                        0.6.4               60f86f4c075e        4 weeks ago         44.4MB\n",
      "openfaas/gateway                           0.9.11              583ff174c013        7 weeks ago         17.7MB\n",
      "openfaas/queue-worker                      0.5.4               761518c70568        2 months ago        20.6MB\n",
      "nats-streaming                             0.11.2              fdbad19bf11e        2 months ago        12.4MB\n",
      "openfaas/faas-idler                        0.1.9               aea6c853c8da        3 months ago        23MB\n",
      "k8s.gcr.io/kube-controller-manager-amd64   v1.11.0             55b70b420785        6 months ago        155MB\n",
      "k8s.gcr.io/kube-scheduler-amd64            v1.11.0             0e4a34a3b0e6        6 months ago        56.8MB\n",
      "k8s.gcr.io/kube-apiserver-amd64            v1.11.0             214c48e87f58        6 months ago        187MB\n",
      "k8s.gcr.io/kube-proxy-amd64                v1.11.0             1d3d7afd77d1        6 months ago        97.8MB\n",
      "prom/alertmanager                          v0.15.0             24ad3756845c        6 months ago        36.1MB\n",
      "prom/prometheus                            v2.3.1              b82ef1f3aa07        6 months ago        119MB\n",
      "k8s.gcr.io/coredns                         1.1.3               b3b94275d97c        7 months ago        45.6MB\n",
      "k8s.gcr.io/etcd-amd64                      3.2.18              b8df3b177be2        9 months ago        219MB\n",
      "k8s.gcr.io/kube-addon-manager              v8.6                9c16409588eb        10 months ago       78.4MB\n",
      "k8s.gcr.io/pause-amd64                     3.1                 da86e6ba6ca1        12 months ago       742kB\n",
      "k8s.gcr.io/pause                           3.1                 da86e6ba6ca1        12 months ago       742kB\n"
     ]
    }
   ],
   "source": [
    "!docker images"
   ]
  },
  {
   "cell_type": "markdown",
   "metadata": {},
   "source": [
    "## Deploy Notebook Function\n",
    "\n",
    "by: Alex Comerford (alexanderjcomerford@gmail.com)\n",
    "\n",
    "In this notebook we will guide the user through the steps to deploying a jupyter notebook as a serverless function on openfaas."
   ]
  },
  {
   "cell_type": "markdown",
   "metadata": {},
   "source": [
    "### Setup\n",
    "\n",
    "First we will setup the openfaas cli and environment variables to allow us to directly talk to openfaas."
   ]
  },
  {
   "cell_type": "code",
   "execution_count": 19,
   "metadata": {},
   "outputs": [
    {
     "name": "stdout",
     "output_type": "stream",
     "text": [
      "\n",
      "You already have the faas-cli!\n",
      "Overwriting in 1 seconds.. Press Control+C to cancel.\n",
      "\n",
      "x86_64\n",
      "Downloading package https://github.com/openfaas/faas-cli/releases/download/0.8.1/faas-cli as /tmp/faas-cli\n",
      "Download complete.\n",
      "\n",
      "Running as root - Attempting to move faas-cli to /usr/local/bin\n",
      "New version of faas-cli installed to /usr/local/bin\n",
      "\u001b[34m  ___                   _____           ____\n",
      " / _ \\ _ __   ___ _ __ |  ___|_ _  __ _/ ___|\n",
      "| | | | '_ \\ / _ \\ '_ \\| |_ / _` |/ _` \\___ \\\n",
      "| |_| | |_) |  __/ | | |  _| (_| | (_| |___) |\n",
      " \\___/| .__/ \\___|_| |_|_|  \\__,_|\\__,_|____/\n",
      "      |_|\n",
      "\n",
      "\u001b[0mCLI:\n",
      " commit:  5b36c50280d961d3aa248bd17f901f4ef2774447\n",
      " version: 0.8.1\n",
      "\n",
      "Gateway\n",
      " uri:     http://gateway-external.openfaas.svc.cluster.local:8080\n",
      " version: 0.9.11\n",
      " sha:     78a4584019a2a5d86b606a00b4fba979930cc2a7\n",
      " commit:  Add sha256 hashgen for watchdog to ci config\n",
      "\n",
      "\n",
      "Provider\n",
      " name:          faas-netes\n",
      " orchestration: kubernetes\n",
      " version:       0.6.4 \n",
      " sha:           7749ba1ae50cf12dd91f298153c79b9ca7a1d26c\n",
      "env: OPENFAAS_URL=gateway-external.openfaas.svc.cluster.local:8080\n"
     ]
    }
   ],
   "source": [
    "## Install the openfaas cli\n",
    "!curl -sL https://cli.openfaas.com | sh\n",
    "\n",
    "## Setup openfaas url for deployment    \n",
    "%env OPENFAAS_URL=gateway-external.openfaas.svc.cluster.local:8080"
   ]
  },
  {
   "cell_type": "markdown",
   "metadata": {},
   "source": [
    "### Deploying a notebook\n",
    "\n",
    "There are only two requirements to deploy a notebook as a function in openfaas\n",
    "\n",
    "1. Write a jupyter notebook \n",
    "2. Deploy the "
   ]
  },
  {
   "cell_type": "code",
   "execution_count": 52,
   "metadata": {},
   "outputs": [
    {
     "name": "stdout",
     "output_type": "stream",
     "text": [
      "Function                      \tInvocations    \tReplicas\n",
      "func-string-test              \t11             \t1    \n"
     ]
    }
   ],
   "source": [
    "!./faas-cli list"
   ]
  },
  {
   "cell_type": "code",
   "execution_count": 37,
   "metadata": {},
   "outputs": [],
   "source": [
    "%%bash\n",
    "cat > functions.yml <<EOL\n",
    "provider:\n",
    "  name: faas\n",
    "functions:\n",
    "  func-string-test:\n",
    "    lang: dockerfile\n",
    "    handler: ./func-string-test\n",
    "    image: func-string-test:latest\n",
    "EOL"
   ]
  },
  {
   "cell_type": "code",
   "execution_count": 61,
   "metadata": {},
   "outputs": [
    {
     "name": "stdout",
     "output_type": "stream",
     "text": [
      "\u001b[33m[0] > Building func-string-test.\n",
      "\u001b[0mBuilding: func-string-test:latest with Dockerfile. Please wait..\n",
      "Sending build context to Docker daemon  10.75kB\n",
      "Step 1/13 : FROM serverless_datascience:base\n",
      " ---> fc1efc9d54da\n",
      "Step 2/13 : ARG notebook_dir=.\n",
      " ---> Using cache\n",
      " ---> 71dcc196f269\n",
      "Step 3/13 : ENV NOTEBOOK_DIR=$notebook_dir\n",
      " ---> Using cache\n",
      " ---> 998afe3b2ead\n",
      "Step 4/13 : ARG notebook\n",
      " ---> Using cache\n",
      " ---> 35b591a12b5b\n",
      "Step 5/13 : ENV NOTEBOOK=$notebook\n",
      " ---> Using cache\n",
      " ---> b3618dedba24\n",
      "Step 6/13 : ADD $NOTEBOOK_DIR/$NOTEBOOK /notebook.ipynb\n",
      " ---> Using cache\n",
      " ---> 1993f4bfbefd\n",
      "Step 7/13 : ENV NOTEBOOK=/notebook.ipynb\n",
      " ---> Using cache\n",
      " ---> de06e7f2b092\n",
      "Step 8/13 : ENV JQ_NOTEBOOK_STDOUT=\"[.cells | .[] | .outputs] | del(.[] | select(. == []))[0] | [ .[] | select( .name == \\\"stdout\\\" ) ][0] | .text[0]\"\n",
      " ---> Using cache\n",
      " ---> d8fd8f85f63f\n",
      "Step 9/13 : RUN echo 'source activate serverless_datascience &&  \t      json2yaml > $(pwd)/params.yml &&\t      (papermill $NOTEBOOK /tmp/out.ipynb \t                 -f $(pwd)/params.yml \t                 --no-log-output \t                 --no-progress-bar            \t         --not-report-mode > /dev/null 2>&1) &&\t      cat /tmp/out.ipynb | jq -c \"$JQ_NOTEBOOK_STDOUT\"' > execute-notebook-script.sh &&     chmod +x execute-notebook-script.sh\n",
      " ---> Running in a3b9a8a8f05d\n",
      "Removing intermediate container a3b9a8a8f05d\n",
      " ---> e508082f0452\n",
      "Step 10/13 : ENV fprocess=\"bash execute-notebook-script.sh\"\n",
      " ---> Running in a44bf48c9777\n",
      "Removing intermediate container a44bf48c9777\n",
      " ---> b3e80721c062\n",
      "Step 11/13 : RUN curl -sL https://github.com/openfaas/faas/releases/download/0.9.6/fwatchdog > /usr/bin/fwatchdog     && chmod +x /usr/bin/fwatchdog\n",
      " ---> Running in 8d81d7bb22a2\n",
      "Removing intermediate container 8d81d7bb22a2\n",
      " ---> d90c2aca1e35\n",
      "Step 12/13 : CMD [\"fwatchdog\"]\n",
      " ---> Running in 0700c3eaaccc\n",
      "Removing intermediate container 0700c3eaaccc\n",
      " ---> a36d2d053276\n",
      "Step 13/13 : HEALTHCHECK --interval=5s CMD [ -e /tmp/.lock ] || exit 1\n",
      " ---> Running in 59edb14416ec\n",
      "Removing intermediate container 59edb14416ec\n",
      " ---> d6e18dcca2e5\n",
      "Successfully built d6e18dcca2e5\n",
      "Successfully tagged func-string-test:latest\n",
      "Image: func-string-test:latest built.\n",
      "\u001b[33m[0] < Building func-string-test done.\n",
      "\u001b[0m\u001b[33m[0] worker done.\n",
      "\u001b[0mDeploying: func-string-test.\n",
      "\n",
      "Deployed. 202 Accepted.\n",
      "URL: http://gateway-external.openfaas.svc.cluster.local:8080/function/func-string-test\n",
      "\n"
     ]
    }
   ],
   "source": [
    "!./faas-cli build -f ./functions.yml --build-arg notebook=notebook_string_test.ipynb\n",
    "!./faas-cli deploy -f ./functions.yml"
   ]
  },
  {
   "cell_type": "code",
   "execution_count": 63,
   "metadata": {},
   "outputs": [
    {
     "name": "stdout",
     "output_type": "stream",
     "text": [
      "\"{'out': 'The TEST variable is equal to hello world'}\\n\"\n"
     ]
    }
   ],
   "source": [
    "!curl -d '{\"TEST\": \"hello world\"}' -H \"Content-Type: application/json\" gateway-external.openfaas.svc.cluster.local:8080/function/func-string-test"
   ]
  },
  {
   "cell_type": "code",
   "execution_count": null,
   "metadata": {},
   "outputs": [],
   "source": []
  }
 ],
 "metadata": {
  "kernelspec": {
   "display_name": "Python 3",
   "language": "python",
   "name": "python3"
  },
  "language_info": {
   "codemirror_mode": {
    "name": "ipython",
    "version": 3
   },
   "file_extension": ".py",
   "mimetype": "text/x-python",
   "name": "python",
   "nbconvert_exporter": "python",
   "pygments_lexer": "ipython3",
   "version": "3.7.1"
  }
 },
 "nbformat": 4,
 "nbformat_minor": 2
}

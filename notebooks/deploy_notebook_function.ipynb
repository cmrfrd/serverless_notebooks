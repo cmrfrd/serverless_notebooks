{
 "cells": [
  {
   "cell_type": "markdown",
   "metadata": {},
   "source": [
    "## Deploy Notebook Function\n",
    "\n",
    "by: Alex Comerford (alexanderjcomerford@gmail.com)\n",
    "\n",
    "In this notebook we will guide the user through the steps to deploying a jupyter notebook as a serverless function on openfaas."
   ]
  },
  {
   "cell_type": "markdown",
   "metadata": {},
   "source": [
    "### Setup\n",
    "\n",
    "First we will setup the openfaas cli and environment variables to allow us to directly talk to openfaas."
   ]
  },
  {
   "cell_type": "code",
   "execution_count": 1,
   "metadata": {},
   "outputs": [
    {
     "name": "stdout",
     "output_type": "stream",
     "text": [
      "sh: 1: ---: not found\n",
      "sh: 2: redirect_from:: not found\n",
      "sh: 3: ---: not found\n",
      "x86_64\n",
      "Downloading package https://github.com/openfaas/faas-cli/releases/download/0.8.3/faas-cli as /tmp/faas-cli\n",
      "Download complete.\n",
      "\n",
      "Running as root - Attempting to move faas-cli to /usr/local/bin\n",
      "New version of faas-cli installed to /usr/local/bin\n",
      "Creating alias 'faas' for 'faas-cli'.\n",
      "\u001b[34m  ___                   _____           ____\n",
      " / _ \\ _ __   ___ _ __ |  ___|_ _  __ _/ ___|\n",
      "| | | | '_ \\ / _ \\ '_ \\| |_ / _` |/ _` \\___ \\\n",
      "| |_| | |_) |  __/ | | |  _| (_| | (_| |___) |\n",
      " \\___/| .__/ \\___|_| |_|_|  \\__,_|\\__,_|____/\n",
      "      |_|\n",
      "\n",
      "\u001b[0mCLI:\n",
      " commit:  a141dedf94ffeed84412365fd591bdc8999c5a1b\n",
      " version: 0.8.3\n",
      "env: OPENFAAS_URL=gateway-external.openfaas.svc.cluster.local:8080\n"
     ]
    }
   ],
   "source": [
    "## Install the openfaas cli\n",
    "!curl -sL https://cli.openfaas.com | sh\n",
    "\n",
    "## Setup openfaas url for deployment    \n",
    "%env OPENFAAS_URL=gateway-external.openfaas.svc.cluster.local:8080"
   ]
  },
  {
   "cell_type": "markdown",
   "metadata": {},
   "source": [
    "### Deploying a notebook\n",
    "\n",
    "There are only two requirements to deploy a notebook as a function in openfaas\n",
    "\n",
    "1. Write a jupyter notebook \n",
    "2. Deploy the "
   ]
  },
  {
   "cell_type": "code",
   "execution_count": 9,
   "metadata": {},
   "outputs": [],
   "source": [
    "NOTEBOOK_TO_DEPLOY = \"./notebook_string_test.ipynb\""
   ]
  },
  {
   "cell_type": "code",
   "execution_count": 28,
   "metadata": {},
   "outputs": [
    {
     "name": "stdout",
     "output_type": "stream",
     "text": [
      "Building: notebook-string-test:latest with Dockerfile. Please wait..\n",
      "Sending build context to Docker daemon   12.8MB\n",
      "Step 1/13 : FROM serverless_datascience:base\n",
      " ---> f153ee35df4b\n",
      "Step 2/13 : RUN curl -sL https://github.com/openfaas/faas/releases/download/0.9.6/fwatchdog > /usr/bin/fwatchdog     && chmod +x /usr/bin/fwatchdog\n",
      " ---> Running in b569531cb6c5\n",
      "Removing intermediate container b569531cb6c5\n",
      " ---> 73dd10aba234\n",
      "Step 3/13 : ENV PLACEHOLDER_NOTEBOOK=/notebook.ipynb\n",
      " ---> Running in 561a85d5f661\n",
      "Removing intermediate container 561a85d5f661\n",
      " ---> 31905278111f\n",
      "Step 4/13 : ENV OUTPUT_NOTEBOOK=/out.ipynb\n",
      " ---> Running in 43986d7ee64d\n",
      "Removing intermediate container 43986d7ee64d\n",
      " ---> 9067fde15d5f\n",
      "Step 5/13 : ENV JQ_NOTEBOOK_STDOUT=\"[.cells | .[] | .outputs] | del(.[] | select( (. == []) or (. == null)))[0] | [ .[] | select( .name == \\\"stdout\\\" ) ][0] | .text[0]\"\n",
      " ---> Running in c4f6826f9e12\n",
      "Removing intermediate container c4f6826f9e12\n",
      " ---> 8faf3eff7f16\n",
      "Step 6/13 : ARG notebook\n",
      " ---> Running in 886723ada16a\n",
      "Removing intermediate container 886723ada16a\n",
      " ---> dd2eaa4bda08\n",
      "Step 7/13 : ENV INPUT_NOTEBOOK=$notebook\n",
      " ---> Running in 5529064c5c78\n",
      "Removing intermediate container 5529064c5c78\n",
      " ---> 1c86d5a8aa0d\n",
      "Step 8/13 : ADD $INPUT_NOTEBOOK $PLACEHOLDER_NOTEBOOK\n",
      " ---> 9a57993f5e5f\n",
      "Step 9/13 : ADD execute_notebook.py execute_notebook.py\n",
      " ---> 3d88a80b2386\n",
      "Step 10/13 : RUN echo 'source activate $(cat $ENVIRONMENT | yq -r .name ) &&          python3 execute_notebook.py' > execute-notebook-script.sh &&    chmod +x execute-notebook-script.sh\n",
      " ---> Running in 29f4ced1f0be\n",
      "Removing intermediate container 29f4ced1f0be\n",
      " ---> 586a790cfe74\n",
      "Step 11/13 : ENV fprocess=\"bash execute-notebook-script.sh\"\n",
      " ---> Running in 34fa072fc2f3\n",
      "Removing intermediate container 34fa072fc2f3\n",
      " ---> bd19c373f768\n",
      "Step 12/13 : CMD [\"fwatchdog\"]\n",
      " ---> Running in 88045b09aa38\n",
      "Removing intermediate container 88045b09aa38\n",
      " ---> d1b9b312af0b\n",
      "Step 13/13 : HEALTHCHECK --interval=5s CMD [ -e /tmp/.lock ] || exit 1\n",
      " ---> Running in db7c99a219e6\n",
      "Removing intermediate container db7c99a219e6\n",
      " ---> d8b70276d72b\n",
      "Successfully built d8b70276d72b\n",
      "Successfully tagged notebook-string-test:latest\n",
      "Image: notebook-string-test:latest built.\n",
      "\n",
      "Deployed. 202 Accepted.\n",
      "URL: http://gateway-external.openfaas.svc.cluster.local:8080/function/notebook-string-test\n",
      "\n"
     ]
    }
   ],
   "source": [
    "import os\n",
    "\n",
    "funcname=os.path.splitext(\n",
    "    os.path.basename(NOTEBOOK_TO_DEPLOY))[0].lower().replace(\"_\",\"-\")\n",
    "\n",
    "!./faas-cli build --image={funcname} \\\n",
    "                  --handler=./       \\\n",
    "                  --name={funcname}  \\\n",
    "                  --lang=dockerfile  \\\n",
    "                  --no-cache         \\\n",
    "                  --build-arg notebook={NOTEBOOK_TO_DEPLOY}\n",
    "\n",
    "!./faas-cli deploy --image={funcname} \\\n",
    "                   --name={funcname}"
   ]
  },
  {
   "cell_type": "code",
   "execution_count": 30,
   "metadata": {},
   "outputs": [],
   "source": [
    "!curl --data '{\"TEST\": \"hello world\",\"DATA\": [9,9,9]}' \\\n",
    "      -H \"Content-Type: application/json\" \\\n",
    "      gateway-external.openfaas.svc.cluster.local:8080/function/notebook-string-test"
   ]
  },
  {
   "cell_type": "code",
   "execution_count": 15,
   "metadata": {},
   "outputs": [],
   "source": [
    "import sys"
   ]
  },
  {
   "cell_type": "code",
   "execution_count": 18,
   "metadata": {},
   "outputs": [
    {
     "data": {
      "text/plain": [
       "''"
      ]
     },
     "execution_count": 18,
     "metadata": {},
     "output_type": "execute_result"
    }
   ],
   "source": [
    "sys.stdin.read()"
   ]
  },
  {
   "cell_type": "code",
   "execution_count": null,
   "metadata": {},
   "outputs": [],
   "source": []
  }
 ],
 "metadata": {
  "kernelspec": {
   "display_name": "Python 3",
   "language": "python",
   "name": "python3"
  },
  "language_info": {
   "codemirror_mode": {
    "name": "ipython",
    "version": 3
   },
   "file_extension": ".py",
   "mimetype": "text/x-python",
   "name": "python",
   "nbconvert_exporter": "python",
   "pygments_lexer": "ipython3",
   "version": "3.6.7"
  }
 },
 "nbformat": 4,
 "nbformat_minor": 2
}

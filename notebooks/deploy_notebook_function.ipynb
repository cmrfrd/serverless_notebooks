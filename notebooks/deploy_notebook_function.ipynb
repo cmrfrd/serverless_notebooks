{
 "cells": [
  {
   "cell_type": "markdown",
   "metadata": {},
   "source": [
    "## Deploy Notebook Function\n",
    "\n",
    "by: Alex Comerford (alexanderjcomerford@gmail.com)\n",
    "\n",
    "In this notebook we will guide the user through the steps to deploying a jupyter notebook as a serverless function on openfaas.\n",
    "\n",
    "The reason that this notebook can be majorly beneficial to several data scientists and users of jupyter notebooks is to show a method for traditional research code first implemented in a jupyter notebook to be deployed as a scalable service that can exist in a production environment"
   ]
  },
  {
   "cell_type": "markdown",
   "metadata": {},
   "source": [
    "### Deploying a notebook steps\n",
    "\n",
    "There are only three steps to deploying a notebook as a function in openfaas\n",
    "\n",
    "1. Write your jupyter notebook (with optional [parameters](https://papermill.readthedocs.io/en/latest/usage-parameterize.html))\n",
    "2. Run the `deploy_notebook` function\n",
    "3. Send http requests to \n",
    "\n",
    "### Looking behind the curtain\n",
    "\n",
    "In order to get a better understanding of how notebooks are being turned into \n",
    "\n",
    "The `deploy_notebook` specified below will use your specified notebook and add it to a docker container which bases off of the same container image used to run this development environment. This is to ensure that the notebooks being executed have as close to the same environment in which they are developed. In this container we include a script called `execute_notebook.py` which will be the main script executed by the openfaas `watchdog` to read http request data via stdin and send desired output via stdout.\n",
    "\n",
    "`watchdog` will execute `execute_notebook.py` which uses `papermill` to execute a notebook in a desired kernel. The executed notebook will then be saved in a temporary path and the output mime-type that matches the `Http_Accept` environment variable (provided by watchdog) will be printed to stdout. This allows for a notebook to have multiple different return types to be requested."
   ]
  },
  {
   "cell_type": "code",
   "execution_count": 130,
   "metadata": {},
   "outputs": [],
   "source": [
    "import os\n",
    "import json\n",
    "import subprocess"
   ]
  },
  {
   "cell_type": "code",
   "execution_count": 131,
   "metadata": {},
   "outputs": [],
   "source": [
    "def deploy_notebook(notebook_name, \n",
    "                    accept_parameters,\n",
    "                    function_dockerfile=os.path.join(os.environ[\"HOME\"],\"work/mnt/docker/Dockerfile.func\")):\n",
    "    '''deploy notebook to openfaas via openfaas\n",
    "\n",
    "    Args:\n",
    "        notebook_name: path to the notebook to deploy.\n",
    "        accept_parameters: boolean if notebook should accept parameters.\n",
    "        function_dockerfile: path to dockerfile for functions\n",
    "\n",
    "    Returns:\n",
    "        tuple: Exit status and message\n",
    "    '''\n",
    "    \n",
    "    ## Parse notebookname to meet OpenFaas standard naming\n",
    "    funcname=os.path.splitext(\n",
    "        os.path.basename(notebook_name))[0].lower().replace(\"_\",\"-\")\n",
    "\n",
    "    ## Build image and return exit status\n",
    "    exit_status = subprocess.check_call([\"docker\", \"build\",\n",
    "                                         \"-t\", funcname,\n",
    "                                         \"-f\", function_dockerfile,\n",
    "                                         \"--build-arg\", \"notebook=%s\"%notebook_name,\n",
    "                                         \"--build-arg\", \"accept_parameters=%s\"%str(accept_parameters),\n",
    "                                         \"--no-cache\",\n",
    "                                         \".\"])\n",
    "    if exit_status:\n",
    "        return (False, \"Unable to build docker image...\")\n",
    "\n",
    "    ## Deploy image and return exit status\n",
    "    exit_status = subprocess.check_call([\"faas-cli\", \"deploy\",\n",
    "                                         \"--image\", funcname,\n",
    "                                         \"--name\", funcname])\n",
    "    if exit_status:\n",
    "        return (False, \"Unable to deploy docker image via faas-cli\")\n",
    "    \n",
    "    return (True, os.path.join(os.environ[\"OPENFAAS_URL\"], \"function/%s\"%funcname))"
   ]
  },
  {
   "cell_type": "markdown",
   "metadata": {},
   "source": [
    "## Stdout notebooks\n",
    "\n",
    "In the next two cells we will deploy a simple notebook that prints a string to stdout.\n",
    "\n",
    "We will then test (with curl) that notebook as a service and print our response"
   ]
  },
  {
   "cell_type": "code",
   "execution_count": 132,
   "metadata": {},
   "outputs": [
    {
     "data": {
      "text/plain": [
       "(True,\n",
       " 'gateway-external.openfaas.svc.cluster.local:8080/function/notebook-out-test')"
      ]
     },
     "execution_count": 132,
     "metadata": {},
     "output_type": "execute_result"
    }
   ],
   "source": [
    "success, out_function_url = deploy_notebook(notebook_name=\"./notebook_out_test.ipynb\", accept_parameters=True)\n",
    "success, out_function_url"
   ]
  },
  {
   "cell_type": "code",
   "execution_count": 133,
   "metadata": {},
   "outputs": [
    {
     "name": "stdout",
     "output_type": "stream",
     "text": [
      "signal: terminated\n",
      "CPU times: user 20.4 ms, sys: 12.5 ms, total: 32.9 ms\n",
      "Wall time: 2.56 s\n"
     ]
    }
   ],
   "source": [
    "%%time\n",
    "!curl --url {out_function_url}"
   ]
  },
  {
   "cell_type": "markdown",
   "metadata": {},
   "source": [
    "As we can see we have successfully (hopefully) executed a notebook via an http request and returned the output contents of the executed notebook.\n",
    "\n",
    "It should be noted that even though this particular notebook only has 1 cell that prints to stdout it still took ~5 seconds to execute. With this approach the overhead of the request is not due to code execution but to the overhead of starting the correct jupyter kernel, writing the notebook to disk, and parsing/sending output through stdout. Fortunately this overhead remains (nearly) constant and can be thought of as negligable for longer based computation"
   ]
  },
  {
   "cell_type": "markdown",
   "metadata": {},
   "source": [
    "## Sending parameters to notebook services\n",
    "\n",
    "An additional feature of `watchdog` and `execute_notebook.py` is that json passed as the payload to a POST request gets translated to paramaters for the notebook ([language dependent](https://papermill.readthedocs.io/en/latest/reference/papermill-translators.html))\n",
    "\n",
    "In the next cell we will deploy a new notebook that takes parameters and will produce new outputs based on those paramaters. Feel free to edit the json paramaters in the `curl` command to interact with it yourself!"
   ]
  },
  {
   "cell_type": "code",
   "execution_count": 88,
   "metadata": {},
   "outputs": [],
   "source": [
    "success, multiple_out_function_url = deploy_notebook(notebook_name=\"./notebook_multiple_outputs.ipynb\", accept_parameters=True)\n",
    "success, multiple_out_function_url"
   ]
  },
  {
   "cell_type": "markdown",
   "metadata": {},
   "source": [
    " Here we are going to define a small utility lambda function in order to convert a dictionary of paramaters into a specially formatted string so inline jupyter shell commands can correctly read single quotes `'` and double quotes `\"`"
   ]
  },
  {
   "cell_type": "code",
   "execution_count": 195,
   "metadata": {},
   "outputs": [],
   "source": [
    "fmt_json_string = lambda j:json.dumps(j).replace(\"\\\"\",\"\\\\\\\"\").replace(\"\\'\",\"\\'\")"
   ]
  },
  {
   "cell_type": "markdown",
   "metadata": {},
   "source": [
    "Now we will define a dictionary of paramaters to input into the specific notebook deployed above, then use the `fmt_json_string` to format the string appropriately to use with `curl` in the jupyter notebook"
   ]
  },
  {
   "cell_type": "code",
   "execution_count": 198,
   "metadata": {},
   "outputs": [
    {
     "name": "stdout",
     "output_type": "stream",
     "text": [
      "The TEST variable is THIS IS A DEFAULT TEST STRING\n",
      "\n",
      "The TEST variable is 'Hello!'\n",
      "\n"
     ]
    }
   ],
   "source": [
    "## define parameters\n",
    "params = {\n",
    "    \"TEST\":\"'Hello!'\"\n",
    "}\n",
    "\n",
    "## Without parameters\n",
    "!curl -s --url  \"{multiple_out_function_url}\"\n",
    "\n",
    "## With parameters\n",
    "!curl -s --data \"{fmt_json_string(params)}\" \\\n",
    "         --url  \"{multiple_out_function_url}\""
   ]
  },
  {
   "cell_type": "markdown",
   "metadata": {},
   "source": [
    "## Parameters + return mime-types\n",
    "\n",
    "Now that we have demonstrated sending parameters to a notebook service and getting a new result based on those parameters, we can now introduce a new feature of `watchdog` and `execute_notebook.py` which is return mime-types. This feature allows the user to specify the `Accept` header in their request which will then be used to parse whatever mime-type was provided in the executed output notebook to be returned to the user.\n",
    "\n",
    "To demonstrate this we will use the notebook we passed parameters to before except we will specify our `Accept` header in the `curl` request to be of type `image/png` which will return a `base64` representation of a `png` image. "
   ]
  },
  {
   "cell_type": "code",
   "execution_count": 203,
   "metadata": {},
   "outputs": [
    {
     "data": {
      "image/png": "[encoded data removed]",
      "text/plain": [
       "<IPython.core.display.Image object>"
      ]
     },
     "metadata": {},
     "output_type": "display_data"
    },
    {
     "name": "stdout",
     "output_type": "stream",
     "text": [
      "CPU times: user 86.1 ms, sys: 29.5 ms, total: 116 ms\n",
      "Wall time: 6.77 s\n"
     ]
    }
   ],
   "source": [
    "%%time\n",
    "\n",
    "## define parameters\n",
    "params = {\n",
    "    \"NUM_POINTS\":100\n",
    "}\n",
    "\n",
    "## Get a new plot updating the number of points we want\n",
    "!curl -s -o /tmp/notebook-multiple-outputs \\\n",
    "      -H \"Accept: image/png\" \\\n",
    "      --data \"{fmt_json_string(params)}\" \\\n",
    "      --url  \"{multiple_out_function_url}\"\n",
    "\n",
    "## Decode the b64 plot to a png\n",
    "!cat /tmp/notebook-multiple-outputs | base64 -d > /tmp/decoded.png\n",
    "\n",
    "## Display the decoded image\n",
    "from IPython.display import display, Image\n",
    "display(Image(filename='/tmp/decoded.png'))"
   ]
  },
  {
   "cell_type": "markdown",
   "metadata": {},
   "source": [
    "## Cosine Similarity in scala example\n",
    "\n",
    "In the next cell we will deploy a notebook written in scala as a function and get the cosine similarity as an output"
   ]
  },
  {
   "cell_type": "code",
   "execution_count": 36,
   "metadata": {},
   "outputs": [
    {
     "name": "stdout",
     "output_type": "stream",
     "text": [
      "CPU times: user 3.84 ms, sys: 6.34 ms, total: 10.2 ms\n",
      "Wall time: 17.2 s\n"
     ]
    },
    {
     "data": {
      "text/plain": [
       "True"
      ]
     },
     "execution_count": 36,
     "metadata": {},
     "output_type": "execute_result"
    }
   ],
   "source": [
    "deploy_notebook(notebook_name=\"./notebook_cosine_similarity_scala.ipynb\", \n",
    "                accept_parameters=True)"
   ]
  },
  {
   "cell_type": "code",
   "execution_count": 18,
   "metadata": {},
   "outputs": [
    {
     "name": "stdout",
     "output_type": "stream",
     "text": [
      "0.3588483640679464\n",
      "CPU times: user 177 ms, sys: 37 ms, total: 214 ms\n",
      "Wall time: 12.2 s\n"
     ]
    }
   ],
   "source": [
    "%%time\n",
    "\n",
    "!curl -s \\\n",
    "      --data '{\"VECTOR_A\":[1,-2,3,1,-1,1,-1,5,5,5,-5,5, 5],  \\\n",
    "               \"VECTOR_B\":[1,1, 4,1, 1,1, 1,5,5,5, 5,5,-5]}' \\\n",
    "      -H \"Accept: text/plain\" \\\n",
    "      $OPENFAAS_URL/function/notebook-cosine-similarity-scala"
   ]
  },
  {
   "cell_type": "markdown",
   "metadata": {},
   "source": [
    "## Mandelbrot Set in Clojure!\n",
    "\n",
    "In the next few cells we will deploy a notebook written in clojure to generate an ascii version of the mandelbrot set"
   ]
  },
  {
   "cell_type": "code",
   "execution_count": 46,
   "metadata": {},
   "outputs": [
    {
     "name": "stdout",
     "output_type": "stream",
     "text": [
      "CPU times: user 8.61 ms, sys: 6.96 ms, total: 15.6 ms\n",
      "Wall time: 20.5 s\n"
     ]
    },
    {
     "data": {
      "text/plain": [
       "True"
      ]
     },
     "execution_count": 46,
     "metadata": {},
     "output_type": "execute_result"
    }
   ],
   "source": [
    "%%time\n",
    "deploy_notebook(notebook_name=\"./notebook_mandelbrot_clojure.ipynb\", \n",
    "                accept_parameters=False)"
   ]
  },
  {
   "cell_type": "code",
   "execution_count": 48,
   "metadata": {},
   "outputs": [
    {
     "name": "stdout",
     "output_type": "stream",
     "text": [
      ",,,,,,,,,,,,,,,,,,,,,,,,,,,,,\"\"\"\"\"\"\"\"\"\"\"\"\"\"\"-----\"\"\"\"\"\"\"\"\"\",,,,,,,,,,,,,,,,\n",
      ",,,,,,,,,,,,,,,,,,,,,,,,,\"\"\"\"\"\"\"\"\"\"\"\"\"\"----:/~@:::---\"\"\"\"\"\"\"\"\",,,,,,,,,,,,,\n",
      ",,,,,,,,,,,,,,,,,,,,,\"\"\"\"\"\"\"\"\"\"\"\"\"\"\"------::/($~|#~:----\"\"\"\"\"\"\"\"\",,,,,,,,,,\n",
      ",,,,,,,,,,,,,,,,,\"\"\"\"\"\"\"\"\"\"\"\"\"\"\"-------:::/(*|~~~|(/::-----\"\"\"\"\"\"\"\",,,,,,,,\n",
      ",,,,,,,,,,,,,\"\"\"\"\"\"\"\"\"\"\"\"\"\"--------::::///($~~~~~~~|(/::::----\"\"\"\"\"\",,,,,,,\n",
      ",,,,,,,,,,\"\"\"\"\"\"\"\"\"\"\"\"---------:::/**#***|$#~~~~~~%$||((//(~:---\"\"\"\"\",,,,,,\n",
      ",,,,,,\"\"\"\"\"\"\"\"\"\"\"-----------:::://*@~~~~~~~~~~~~~~~~~~~#@~~~~/:--\"\"\"\"\"\",,,,\n",
      ",,,\"\"\"\"\"\"\"\"\"\"\"----:::::::::::///(|~@~~~~~~~~~~~~~~~~~~~~~~~@(/:---\"\"\"\"\",,,,\n",
      ",\"\"\"\"\"\"\"\"\"-----::/|$(//(*((((((*|%~~~~~~~~~~~~~~~~~~~~~~~~~%$$/:--\"\"\"\"\"\",,,\n",
      "\"\"\"\"\"\"\"------:::/(*#~~~@~~%~$||$~~~~~~~~~~~~~~~~~~~~~~~~~~~~~*/:---\"\"\"\"\"\",,\n",
      "\"\"\"\"------::::/((*#@~~~~~~~~~~~~~~~~~~~~~~~~~~~~~~~~~~~~~~~~~$/:---\"\"\"\"\"\",,\n",
      "\"---:::::////(*@%~~~~~~~~~~~~~~~~~~~~~~~~~~~~~~~~~~~~~~~~~~~*/::---\"\"\"\"\"\",,\n",
      "~~~~~~~~~~~~~~~~~~~~~~~~~~~~~~~~~~~~~~~~~~~~~~~~~~~~~~~~~~$*//::---\"\"\"\"\"\",,\n",
      "\"---:::::////(*@%~~~~~~~~~~~~~~~~~~~~~~~~~~~~~~~~~~~~~~~~~~~*/::---\"\"\"\"\"\",,\n",
      "\"\"\"\"------::::/((*#@~~~~~~~~~~~~~~~~~~~~~~~~~~~~~~~~~~~~~~~~~$/:---\"\"\"\"\"\",,\n",
      "\"\"\"\"\"\"\"------:::/(*#~~~@~~%~$||$~~~~~~~~~~~~~~~~~~~~~~~~~~~~~*/:---\"\"\"\"\"\",,\n",
      ",\"\"\"\"\"\"\"\"\"-----::/|$(//(*((((((*|%~~~~~~~~~~~~~~~~~~~~~~~~~%$$/:--\"\"\"\"\"\",,,\n",
      ",,,\"\"\"\"\"\"\"\"\"\"\"----:::::::::::///(|~@~~~~~~~~~~~~~~~~~~~~~~~@(/:---\"\"\"\"\",,,,\n",
      ",,,,,,\"\"\"\"\"\"\"\"\"\"\"-----------:::://*@~~~~~~~~~~~~~~~~~~~#@~~~~/:--\"\"\"\"\"\",,,,\n",
      ",,,,,,,,,,\"\"\"\"\"\"\"\"\"\"\"\"---------:::/**#***|$#~~~~~~%$||((//(~:---\"\"\"\"\",,,,,,\n",
      ",,,,,,,,,,,,,\"\"\"\"\"\"\"\"\"\"\"\"\"\"--------::::///($~~~~~~~|(/::::----\"\"\"\"\"\",,,,,,,\n",
      ",,,,,,,,,,,,,,,,,\"\"\"\"\"\"\"\"\"\"\"\"\"\"\"-------:::/(*|~~~|(/::-----\"\"\"\"\"\"\"\",,,,,,,,\n",
      ",,,,,,,,,,,,,,,,,,,,,\"\"\"\"\"\"\"\"\"\"\"\"\"\"\"------::/($~|#~:----\"\"\"\"\"\"\"\"\",,,,,,,,,,\n",
      ",,,,,,,,,,,,,,,,,,,,,,,,,\"\"\"\"\"\"\"\"\"\"\"\"\"\"----:/~@:::---\"\"\"\"\"\"\"\"\",,,,,,,,,,,,,\n",
      "\n",
      "CPU times: user 68.6 ms, sys: 19.2 ms, total: 87.8 ms\n",
      "Wall time: 5.35 s\n"
     ]
    }
   ],
   "source": [
    "%%time\n",
    "\n",
    "## Get a new plot updating the number of points we want\n",
    "!curl -s \\\n",
    "      -H \"Accept: text/plain\" \\\n",
    "      $OPENFAAS_URL/function/notebook-mandelbrot-clojure"
   ]
  },
  {
   "cell_type": "markdown",
   "metadata": {},
   "source": [
    "## Singular Vector Decomposition in R"
   ]
  },
  {
   "cell_type": "code",
   "execution_count": 8,
   "metadata": {},
   "outputs": [
    {
     "name": "stdout",
     "output_type": "stream",
     "text": [
      "CPU times: user 399 µs, sys: 4.24 ms, total: 4.64 ms\n",
      "Wall time: 12.8 s\n"
     ]
    },
    {
     "data": {
      "text/plain": [
       "True"
      ]
     },
     "execution_count": 8,
     "metadata": {},
     "output_type": "execute_result"
    }
   ],
   "source": [
    "%%time\n",
    "deploy_notebook(notebook_name=\"./notebook_svd_R.ipynb\", \n",
    "                accept_parameters=False)"
   ]
  },
  {
   "cell_type": "code",
   "execution_count": 9,
   "metadata": {},
   "outputs": [
    {
     "name": "stdout",
     "output_type": "stream",
     "text": [
      "{\n",
      "  \"d\": [13.0112, 0.8419, 9.9099e-17],\n",
      "  \"u\": [\n",
      "    [-0.4177, -0.8117, 0.4082],\n",
      "    [-0.5647, -0.1201, -0.8165],\n",
      "    [-0.7118, 0.5716, 0.4082]\n",
      "  ],\n",
      "  \"v\": [\n",
      "    [-0.283, 0.7873, -0.3741],\n",
      "    [-0.4132, 0.3595, 0.797],\n",
      "    [-0.5434, -0.0683, -0.4717],\n",
      "    [-0.6737, -0.4962, 0.0488]\n",
      "  ]\n",
      "} \n",
      "CPU times: user 56.9 ms, sys: 30.3 ms, total: 87.3 ms\n",
      "Wall time: 4.14 s\n"
     ]
    }
   ],
   "source": [
    "%%time\n",
    "\n",
    "!curl -s \\\n",
    "      --data '{\\\n",
    "                \"INPUT_MATRIX\":[[1,-2,3,1],   \\\n",
    "                                [-1,1,-1,5,], \\\n",
    "                                [5,5,-5,5]],  \\\n",
    "              }' \\\n",
    "      -H \"Accept: text/plain\" \\\n",
    "      $OPENFAAS_URL/function/notebook-svd-r"
   ]
  },
  {
   "cell_type": "code",
   "execution_count": null,
   "metadata": {},
   "outputs": [],
   "source": []
  }
 ],
 "metadata": {
  "kernelspec": {
   "display_name": "Python 3",
   "language": "python",
   "name": "python3"
  },
  "language_info": {
   "codemirror_mode": {
    "name": "ipython",
    "version": 3
   },
   "file_extension": ".py",
   "mimetype": "text/x-python",
   "name": "python",
   "nbconvert_exporter": "python",
   "pygments_lexer": "ipython3",
   "version": "3.6.8"
  },
  "toc": {
   "base_numbering": 1,
   "nav_menu": {},
   "number_sections": false,
   "sideBar": false,
   "skip_h1_title": false,
   "title_cell": "Table of Contents",
   "title_sidebar": "Contents",
   "toc_cell": false,
   "toc_position": {},
   "toc_section_display": false,
   "toc_window_display": false
  }
 },
 "nbformat": 4,
 "nbformat_minor": 2
}

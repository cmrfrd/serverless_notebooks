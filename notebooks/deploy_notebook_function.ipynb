{
 "cells": [
  {
   "cell_type": "markdown",
   "metadata": {},
   "source": [
    "## Deploy Notebook Function\n",
    "\n",
    "by: Alex Comerford (alexanderjcomerford@gmail.com)\n",
    "\n",
    "In this notebook we will guide the user through the steps to deploying a jupyter notebook as a serverless function on openfaas."
   ]
  },
  {
   "cell_type": "markdown",
   "metadata": {},
   "source": [
    "### Setup\n",
    "\n",
    "First we will setup the openfaas cli and environment variables to allow us to directly talk to openfaas."
   ]
  },
  {
   "cell_type": "code",
   "execution_count": 1,
   "metadata": {},
   "outputs": [
    {
     "name": "stdout",
     "output_type": "stream",
     "text": [
      "x86_64\n",
      "Downloading package https://github.com/openfaas/faas-cli/releases/download/0.8.1/faas-cli as /tmp/faas-cli\n",
      "Download complete.\n",
      "\n",
      "Running as root - Attempting to move faas-cli to /usr/local/bin\n",
      "New version of faas-cli installed to /usr/local/bin\n",
      "Creating alias 'faas' for 'faas-cli'.\n",
      "\u001b[34m  ___                   _____           ____\n",
      " / _ \\ _ __   ___ _ __ |  ___|_ _  __ _/ ___|\n",
      "| | | | '_ \\ / _ \\ '_ \\| |_ / _` |/ _` \\___ \\\n",
      "| |_| | |_) |  __/ | | |  _| (_| | (_| |___) |\n",
      " \\___/| .__/ \\___|_| |_|_|  \\__,_|\\__,_|____/\n",
      "      |_|\n",
      "\n",
      "\u001b[0mCLI:\n",
      " commit:  5b36c50280d961d3aa248bd17f901f4ef2774447\n",
      " version: 0.8.1\n",
      "env: OPENFAAS_URL=gateway-external.openfaas.svc.cluster.local:8080\n"
     ]
    }
   ],
   "source": [
    "## Install the openfaas cli\n",
    "!curl -sL https://cli.openfaas.com | sh\n",
    "\n",
    "## Setup openfaas url for deployment    \n",
    "%env OPENFAAS_URL=gateway-external.openfaas.svc.cluster.local:8080"
   ]
  },
  {
   "cell_type": "markdown",
   "metadata": {},
   "source": [
    "### Deploying a notebook\n",
    "\n",
    "There are only two requirements to deploy a notebook as a function in openfaas\n",
    "\n",
    "1. Write a jupyter notebook \n",
    "2. Deploy the "
   ]
  },
  {
   "cell_type": "code",
   "execution_count": 2,
   "metadata": {},
   "outputs": [],
   "source": [
    "NOTEBOOK_TO_DEPLOY = \"./notebook_string_test.ipynb\""
   ]
  },
  {
   "cell_type": "code",
   "execution_count": 85,
   "metadata": {},
   "outputs": [
    {
     "name": "stdout",
     "output_type": "stream",
     "text": [
      "Building: notebook-string-test:latest with Dockerfile. Please wait..\n",
      "Sending build context to Docker daemon   8.04MB\n",
      "Step 1/14 : FROM serverless_datascience:base\n",
      " ---> a2fae016518c\n",
      "Step 2/14 : ENV PLACEHOLDER_NOTEBOOK=/notebook.ipynb\n",
      " ---> Running in 75cff523c4a7\n",
      "Removing intermediate container 75cff523c4a7\n",
      " ---> e4bb94663c63\n",
      "Step 3/14 : ENV OUTPUT_NOTEBOOK=/out.ipynb\n",
      " ---> Running in 15aa2a32a443\n",
      "Removing intermediate container 15aa2a32a443\n",
      " ---> 971bfab3f661\n",
      "Step 4/14 : ENV JQ_NOTEBOOK_STDOUT=\"[.cells | .[] | .outputs] | del(.[] | select( (. == []) or (. == null)))[0] | [ .[] | select( .name == \\\"stdout\\\" ) ][0] | .text[0]\"\n",
      " ---> Running in e7650e53952f\n",
      "Removing intermediate container e7650e53952f\n",
      " ---> ee37969f5334\n",
      "Step 5/14 : ARG notebook\n",
      " ---> Running in 733648d96711\n",
      "Removing intermediate container 733648d96711\n",
      " ---> 12bf7e64bc19\n",
      "Step 6/14 : ENV INPUT_NOTEBOOK=$notebook\n",
      " ---> Running in e67976d7d093\n",
      "Removing intermediate container e67976d7d093\n",
      " ---> 2b142b9b9906\n",
      "Step 7/14 : ADD $INPUT_NOTEBOOK $PLACEHOLDER_NOTEBOOK\n",
      " ---> aa23c0bfd7e1\n",
      "Step 8/14 : RUN echo 'source activate $(cat $ENVIRONMENT | yq -r .name ) &&  \t      json2yaml > $(pwd)/params.yml &&\t      (papermill $PLACEHOLDER_NOTEBOOK $OUTPUT_NOTEBOOK \t                 -f $(pwd)/params.yml \t                 --no-log-output \t                 --no-progress-bar            \t         --not-report-mode > /dev/null 2>&1) &&\t      cat $OUTPUT_NOTEBOOK | jq -c \"$JQ_NOTEBOOK_STDOUT\"' > execute-notebook-script.sh &&     chmod +x execute-notebook-script.sh\n",
      " ---> Running in 9d9ba2b9a98b\n",
      "Removing intermediate container 9d9ba2b9a98b\n",
      " ---> 7e64f9c7dfec\n",
      "Step 9/14 : ADD execute_notebook.py execute_notebook.py\n",
      " ---> 654c4beae818\n",
      "Step 10/14 : RUN echo 'source activate $(cat $ENVIRONMENT | yq -r .name ) &&          python3 execute_notebook.py' > execute-notebook-script.sh &&    chmod +x execute-notebook-script.sh\n",
      " ---> Running in 91435d551fd0\n",
      "Removing intermediate container 91435d551fd0\n",
      " ---> b89d6fa19cd0\n",
      "Step 11/14 : ENV fprocess=\"bash execute-notebook-script.sh\"\n",
      " ---> Running in 4c7499b54c95\n",
      "Removing intermediate container 4c7499b54c95\n",
      " ---> 79b8db741cff\n",
      "Step 12/14 : RUN curl -sL https://github.com/openfaas/faas/releases/download/0.9.6/fwatchdog > /usr/bin/fwatchdog     && chmod +x /usr/bin/fwatchdog\n",
      " ---> Running in de9a6b590b28\n",
      "Removing intermediate container de9a6b590b28\n",
      " ---> 5350fe59cd73\n",
      "Step 13/14 : CMD [\"fwatchdog\"]\n",
      " ---> Running in 1b28398aef5d\n",
      "Removing intermediate container 1b28398aef5d\n",
      " ---> 5b23339cd46d\n",
      "Step 14/14 : HEALTHCHECK --interval=5s CMD [ -e /tmp/.lock ] || exit 1\n",
      " ---> Running in 5a872414de66\n",
      "Removing intermediate container 5a872414de66\n",
      " ---> baa1ade6e0ca\n",
      "Successfully built baa1ade6e0ca\n",
      "Successfully tagged notebook-string-test:latest\n",
      "Image: notebook-string-test:latest built.\n",
      "\n",
      "Deployed. 202 Accepted.\n",
      "URL: http://gateway-external.openfaas.svc.cluster.local:8080/function/notebook-string-test\n",
      "\n"
     ]
    }
   ],
   "source": [
    "import os\n",
    "\n",
    "funcname=os.path.splitext(\n",
    "    os.path.basename(NOTEBOOK_TO_DEPLOY))[0].lower().replace(\"_\",\"-\")\n",
    "\n",
    "!./faas-cli build --image={funcname} \\\n",
    "                  --handler=./       \\\n",
    "                  --name={funcname}  \\\n",
    "                  --lang=dockerfile  \\\n",
    "                  --no-cache         \\\n",
    "                  --build-arg notebook={NOTEBOOK_TO_DEPLOY}\n",
    "\n",
    "!./faas-cli deploy --image={funcname} \\\n",
    "                   --name={funcname}"
   ]
  },
  {
   "cell_type": "code",
   "execution_count": 90,
   "metadata": {},
   "outputs": [
    {
     "name": "stdout",
     "output_type": "stream",
     "text": [
      "   0\n",
      "0  9\n",
      "1  9\n",
      "2  9\n"
     ]
    }
   ],
   "source": [
    "!curl --data '{\"TEST\": \"hello world\",\"DATA\": [9,9,9]}' \\\n",
    "      -H \"Content-Type: application/json\" \\\n",
    "      -H \"Accept: text/plain\" \\\n",
    "      gateway-external.openfaas.svc.cluster.local:8080/function/notebook-string-test"
   ]
  },
  {
   "cell_type": "code",
   "execution_count": null,
   "metadata": {},
   "outputs": [],
   "source": []
  }
 ],
 "metadata": {
  "kernelspec": {
   "display_name": "Python 3",
   "language": "python",
   "name": "python3"
  },
  "language_info": {
   "codemirror_mode": {
    "name": "ipython",
    "version": 3
   },
   "file_extension": ".py",
   "mimetype": "text/x-python",
   "name": "python",
   "nbconvert_exporter": "python",
   "pygments_lexer": "ipython3",
   "version": "3.7.1"
  }
 },
 "nbformat": 4,
 "nbformat_minor": 2
}

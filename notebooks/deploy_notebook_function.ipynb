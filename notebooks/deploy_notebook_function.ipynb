{
 "cells": [
  {
   "cell_type": "markdown",
   "metadata": {},
   "source": [
    "## Deploy Notebook Function\n",
    "\n",
    "by: Alex Comerford (alexanderjcomerford@gmail.com)\n",
    "\n",
    "In this notebook we will guide the user through the steps to deploying a jupyter notebook as a serverless function on openfaas."
   ]
  },
  {
   "cell_type": "markdown",
   "metadata": {},
   "source": [
    "### Setup\n",
    "\n",
    "First we will setup the openfaas cli and environment variables to allow us to directly talk to openfaas."
   ]
  },
  {
   "cell_type": "code",
   "execution_count": 1,
   "metadata": {},
   "outputs": [
    {
     "name": "stdout",
     "output_type": "stream",
     "text": [
      "sh: 1: ---: not found\n",
      "sh: 2: redirect_from:: not found\n",
      "sh: 3: ---: not found\n",
      "x86_64\n",
      "Downloading package https://github.com/openfaas/faas-cli/releases/download/0.8.3/faas-cli as /tmp/faas-cli\n",
      "Download complete.\n",
      "\n",
      "Running as root - Attempting to move faas-cli to /usr/local/bin\n",
      "New version of faas-cli installed to /usr/local/bin\n",
      "Creating alias 'faas' for 'faas-cli'.\n",
      "\u001b[34m  ___                   _____           ____\n",
      " / _ \\ _ __   ___ _ __ |  ___|_ _  __ _/ ___|\n",
      "| | | | '_ \\ / _ \\ '_ \\| |_ / _` |/ _` \\___ \\\n",
      "| |_| | |_) |  __/ | | |  _| (_| | (_| |___) |\n",
      " \\___/| .__/ \\___|_| |_|_|  \\__,_|\\__,_|____/\n",
      "      |_|\n",
      "\n",
      "\u001b[0mCLI:\n",
      " commit:  a141dedf94ffeed84412365fd591bdc8999c5a1b\n",
      " version: 0.8.3\n",
      "env: OPENFAAS_URL=gateway-external.openfaas.svc.cluster.local:8080\n"
     ]
    }
   ],
   "source": [
    "## Install the openfaas cli\n",
    "!curl -sL https://cli.openfaas.com | sh\n",
    "\n",
    "## Setup openfaas url for deployment    \n",
    "%env OPENFAAS_URL=gateway-external.openfaas.svc.cluster.local:8080"
   ]
  },
  {
   "cell_type": "markdown",
   "metadata": {},
   "source": [
    "### Deploying a notebook\n",
    "\n",
    "There are only two requirements to deploy a notebook as a function in openfaas\n",
    "\n",
    "1. Write a jupyter notebook \n",
    "2. Deploy the "
   ]
  },
  {
   "cell_type": "code",
   "execution_count": 210,
   "metadata": {},
   "outputs": [],
   "source": [
    "NOTEBOOK_TO_DEPLOY = \"./notebook_multiple_outputs.ipynb\""
   ]
  },
  {
   "cell_type": "code",
   "execution_count": 216,
   "metadata": {},
   "outputs": [
    {
     "name": "stdout",
     "output_type": "stream",
     "text": [
      "\n",
      "Deployed. 202 Accepted.\n",
      "URL: http://gateway-external.openfaas.svc.cluster.local:8080/function/notebook-multiple-outputs\n",
      "\n"
     ]
    }
   ],
   "source": [
    "import os\n",
    "\n",
    "funcname=os.path.splitext(\n",
    "    os.path.basename(NOTEBOOK_TO_DEPLOY))[0].lower().replace(\"_\",\"-\")\n",
    "\n",
    "!./faas-cli build --image={funcname} \\\n",
    "                  --handler=./       \\\n",
    "                  --name={funcname}  \\\n",
    "                  --lang=dockerfile  \\\n",
    "                  --no-cache         \\\n",
    "                  --build-arg notebook={NOTEBOOK_TO_DEPLOY} \\\n",
    "                  > /dev/null 2>&1\n",
    "\n",
    "!./faas-cli deploy --image={funcname} \\\n",
    "                   --name={funcname}"
   ]
  },
  {
   "cell_type": "markdown",
   "metadata": {},
   "source": [
    "## Test example stdout notebooks\n",
    "\n",
    "In the next cell we will test (with curl) a notebook that outputs application/json to a file and output it to a file, then print that files json contents "
   ]
  },
  {
   "cell_type": "code",
   "execution_count": 207,
   "metadata": {},
   "outputs": [
    {
     "name": "stdout",
     "output_type": "stream",
     "text": [
      "{'hello': 'i am a json!'}\n"
     ]
    }
   ],
   "source": [
    "!curl -s -o /tmp/notebook-out-test \\\n",
    "      -H \"Accept: application/json\" \\\n",
    "      gateway-external.openfaas.svc.cluster.local:8080/function/notebook-out-test &&\\\n",
    " cat /tmp/notebook-out-test"
   ]
  },
  {
   "cell_type": "markdown",
   "metadata": {},
   "source": [
    "## Test example mime-type output notebooks\n",
    "\n",
    "In the next cell we will test (with curl) a notebook that outputs different mime-types to a file and output it to a file, then print that files json contents "
   ]
  },
  {
   "cell_type": "code",
   "execution_count": 215,
   "metadata": {},
   "outputs": [],
   "source": [
    "%%bash\n",
    "curl -s -o /tmp/notebook-multiple-outputs \\\n",
    "     --data '{\"TEST\": \"hello world\",\"DATA\": [9,9,9]}' \\\n",
    "     -H \"Content-Type: application/json\" \\\n",
    "     gateway-external.openfaas.svc.cluster.local:8080/function/notebook-multiple-outputs\n",
    "\n",
    "cat /tmp/notebook-multiple-outputs"
   ]
  }
 ],
 "metadata": {
  "kernelspec": {
   "display_name": "Python 3",
   "language": "python",
   "name": "python3"
  },
  "language_info": {
   "codemirror_mode": {
    "name": "ipython",
    "version": 3
   },
   "file_extension": ".py",
   "mimetype": "text/x-python",
   "name": "python",
   "nbconvert_exporter": "python",
   "pygments_lexer": "ipython3",
   "version": "3.6.7"
  }
 },
 "nbformat": 4,
 "nbformat_minor": 2
}

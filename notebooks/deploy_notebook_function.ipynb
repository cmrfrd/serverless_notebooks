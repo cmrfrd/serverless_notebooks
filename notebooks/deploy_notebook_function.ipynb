{
 "cells": [
  {
   "cell_type": "markdown",
   "metadata": {},
   "source": [
    "## Deploy Notebook Function\n",
    "\n",
    "by: Alex Comerford (alexanderjcomerford@gmail.com)\n",
    "\n",
    "In this notebook we will guide the user through the steps to deploying a jupyter notebook as a serverless function on openfaas."
   ]
  },
  {
   "cell_type": "markdown",
   "metadata": {},
   "source": [
    "### Setup\n",
    "\n",
    "First we will setup the openfaas cli and environment variables to allow us to directly talk to openfaas."
   ]
  },
  {
   "cell_type": "code",
   "execution_count": 4,
   "metadata": {},
   "outputs": [
    {
     "name": "stdout",
     "output_type": "stream",
     "text": [
      "\n",
      "You already have the faas-cli!\n",
      "Overwriting in 1 seconds.. Press Control+C to cancel.\n",
      "\n",
      "x86_64\n",
      "Downloading package https://github.com/openfaas/faas-cli/releases/download/0.8.3/faas-cli as /tmp/faas-cli\n",
      "Download complete.\n",
      "\n",
      "Running as root - Attempting to move faas-cli to /usr/local/bin\n",
      "New version of faas-cli installed to /usr/local/bin\n",
      "\u001b[34m  ___                   _____           ____\n",
      " / _ \\ _ __   ___ _ __ |  ___|_ _  __ _/ ___|\n",
      "| | | | '_ \\ / _ \\ '_ \\| |_ / _` |/ _` \\___ \\\n",
      "| |_| | |_) |  __/ | | |  _| (_| | (_| |___) |\n",
      " \\___/| .__/ \\___|_| |_|_|  \\__,_|\\__,_|____/\n",
      "      |_|\n",
      "\n",
      "\u001b[0mCLI:\n",
      " commit:  a141dedf94ffeed84412365fd591bdc8999c5a1b\n",
      " version: 0.8.3\n",
      "env: OPENFAAS_URL=gateway-external.openfaas.svc.cluster.local:8080\n"
     ]
    }
   ],
   "source": [
    "## Install the openfaas cli\n",
    "!curl -sL https://cli.openfaas.com | sh\n",
    "\n",
    "## Setup openfaas url for deployment    \n",
    "%env OPENFAAS_URL=gateway-external.openfaas.svc.cluster.local:8080"
   ]
  },
  {
   "cell_type": "markdown",
   "metadata": {},
   "source": [
    "### Deploying a notebook\n",
    "\n",
    "There are only two requirements to deploy a notebook as a function in openfaas\n",
    "\n",
    "1. Write a jupyter notebook \n",
    "2. Deploy the "
   ]
  },
  {
   "cell_type": "code",
   "execution_count": 5,
   "metadata": {},
   "outputs": [],
   "source": [
    "import os\n",
    "def deploy_notebook(NOTEBOOK_NAME):\n",
    "    \n",
    "    funcname=os.path.splitext(\n",
    "        os.path.basename(NOTEBOOK_NAME))[0].lower().replace(\"_\",\"-\")\n",
    "\n",
    "    !./faas-cli build --image={funcname} \\\n",
    "                      --handler=./       \\\n",
    "                      --lang=dockerfile  \\\n",
    "                      --parallel=4       \\\n",
    "                      --no-cache         \\\n",
    "                      --name={funcname}  \\\n",
    "                      --build-arg notebook={NOTEBOOK_NAME} \\\n",
    "                      > /dev/null 2>&1\n",
    "\n",
    "    !./faas-cli deploy --image={funcname} \\\n",
    "                       --name={funcname}"
   ]
  },
  {
   "cell_type": "markdown",
   "metadata": {},
   "source": [
    "## Test example stdout notebooks\n",
    "\n",
    "In the next cell we will test (with curl) a notebook that outputs application/json to a file and output it to a file, then print that files json contents "
   ]
  },
  {
   "cell_type": "code",
   "execution_count": 3,
   "metadata": {},
   "outputs": [
    {
     "name": "stdout",
     "output_type": "stream",
     "text": [
      "\n",
      "Deployed. 202 Accepted.\n",
      "URL: http://gateway-external.openfaas.svc.cluster.local:8080/function/notebook-out-test\n",
      "\n",
      "CPU times: user 464 ms, sys: 101 ms, total: 565 ms\n",
      "Wall time: 32.4 s\n"
     ]
    }
   ],
   "source": [
    "%%time\n",
    "deploy_notebook(\"./notebook_out_test.ipynb\")"
   ]
  },
  {
   "cell_type": "code",
   "execution_count": 5,
   "metadata": {},
   "outputs": [
    {
     "name": "stdout",
     "output_type": "stream",
     "text": [
      "hello i am stdout!\n",
      "\n"
     ]
    }
   ],
   "source": [
    "!curl $OPENFAAS_URL/function/notebook-out-test"
   ]
  },
  {
   "cell_type": "markdown",
   "metadata": {},
   "source": [
    "## Test example mime-type output notebooks\n",
    "\n",
    "In the next cell we will test (with curl) a notebook that outputs different mime-types to a file and output it to a file, then print that files json contents "
   ]
  },
  {
   "cell_type": "code",
   "execution_count": 6,
   "metadata": {},
   "outputs": [
    {
     "name": "stdout",
     "output_type": "stream",
     "text": [
      "\n",
      "Deployed. 202 Accepted.\n",
      "URL: http://gateway-external.openfaas.svc.cluster.local:8080/function/notebook-multiple-outputs\n",
      "\n",
      "CPU times: user 478 ms, sys: 117 ms, total: 595 ms\n",
      "Wall time: 33.1 s\n"
     ]
    }
   ],
   "source": [
    "%%time\n",
    "deploy_notebook(\"./notebook_multiple_outputs.ipynb\")"
   ]
  },
  {
   "cell_type": "code",
   "execution_count": 8,
   "metadata": {},
   "outputs": [
    {
     "data": {
      "image/png": "[encoded data removed]",
      "text/plain": [
       "<IPython.core.display.Image object>"
      ]
     },
     "metadata": {},
     "output_type": "display_data"
    },
    {
     "name": "stdout",
     "output_type": "stream",
     "text": [
      "CPU times: user 87.8 ms, sys: 24.7 ms, total: 112 ms\n",
      "Wall time: 6.7 s\n"
     ]
    }
   ],
   "source": [
    "%%time\n",
    "\n",
    "## Get a new plot updating the number of points we want\n",
    "!curl -s -o /tmp/notebook-multiple-outputs \\\n",
    "      --data '{\"NUM_POINTS\":10}' \\\n",
    "      -H \"Content-Type: application/json\" \\\n",
    "      -H \"Accept: image/png\" \\\n",
    "      $OPENFAAS_URL/function/notebook-multiple-outputs\n",
    "\n",
    "## Decode the b64 plot to a png\n",
    "!cat /tmp/notebook-multiple-outputs | base64 -d > /tmp/decoded.png\n",
    "\n",
    "## Display the decoded image\n",
    "from IPython.display import display, Image\n",
    "display(Image(filename='/tmp/decoded.png'))"
   ]
  },
  {
   "cell_type": "code",
   "execution_count": 10,
   "metadata": {},
   "outputs": [
    {
     "data": {
      "application/json": [
       "{'The TEST variable is': 'Hello i am a test string!'}"
      ],
      "text/plain": [
       "<IPython.core.display.JSON object>"
      ]
     },
     "metadata": {
      "application/json": {
       "expanded": false,
       "root": "root"
      }
     },
     "output_type": "display_data"
    },
    {
     "name": "stdout",
     "output_type": "stream",
     "text": [
      "CPU times: user 1.48 ms, sys: 4.88 ms, total: 6.36 ms\n",
      "Wall time: 5.94 s\n"
     ]
    }
   ],
   "source": [
    "%%time\n",
    "\n",
    "## Get a new plot updating the number of points we want\n",
    "out = !curl -s \\\n",
    "      --data '{\"TEST\":\"Hello i am a test string!\"}' \\\n",
    "      -H \"Content-Type: application/json\" \\\n",
    "      -H \"Accept: application/json\" \\\n",
    "      $OPENFAAS_URL/function/notebook-multiple-outputs\n",
    "\n",
    "from IPython.display import display, JSON\n",
    "display(JSON(out))"
   ]
  },
  {
   "cell_type": "markdown",
   "metadata": {},
   "source": [
    "## Cosine Similarity in scala example\n",
    "\n",
    "In the next cell we will deploy a notebook written in scala as a function and get the cosine similarity as an output"
   ]
  },
  {
   "cell_type": "code",
   "execution_count": 9,
   "metadata": {},
   "outputs": [
    {
     "name": "stdout",
     "output_type": "stream",
     "text": [
      "\n",
      "Deployed. 202 Accepted.\n",
      "URL: http://gateway-external.openfaas.svc.cluster.local:8080/function/notebook-cosine-similarity-scala\n",
      "\n",
      "CPU times: user 517 ms, sys: 135 ms, total: 652 ms\n",
      "Wall time: 34.4 s\n"
     ]
    }
   ],
   "source": [
    "%%time\n",
    "deploy_notebook(\"./notebook_cosine_similarity_scala.ipynb\")"
   ]
  },
  {
   "cell_type": "code",
   "execution_count": 12,
   "metadata": {},
   "outputs": [
    {
     "name": "stdout",
     "output_type": "stream",
     "text": [
      "0.6529863674023287\n",
      "CPU times: user 171 ms, sys: 24 ms, total: 195 ms\n",
      "Wall time: 11.4 s\n"
     ]
    }
   ],
   "source": [
    "%%time\n",
    "\n",
    "## Get a new plot updating the number of points we want\n",
    "!curl -s \\\n",
    "      --data '{\"VECTOR_A\":[1,-2,3,1,-1,1,-1,5,5,5,-5,5,5],  \\\n",
    "               \"VECTOR_B\":[1,1, 4,1, 1,1, 1,5,5,5, 5,5,5]}' \\\n",
    "      -H \"Content-Type: application/json\" \\\n",
    "      -H \"Accept: text/plain\" \\\n",
    "      $OPENFAAS_URL/function/notebook-cosine-similarity-scala"
   ]
  },
  {
   "cell_type": "code",
   "execution_count": null,
   "metadata": {},
   "outputs": [],
   "source": []
  }
 ],
 "metadata": {
  "kernelspec": {
   "display_name": "Python 3",
   "language": "python",
   "name": "python3"
  },
  "language_info": {
   "codemirror_mode": {
    "name": "ipython",
    "version": 3
   },
   "file_extension": ".py",
   "mimetype": "text/x-python",
   "name": "python",
   "nbconvert_exporter": "python",
   "pygments_lexer": "ipython3",
   "version": "3.6.7"
  }
 },
 "nbformat": 4,
 "nbformat_minor": 2
}

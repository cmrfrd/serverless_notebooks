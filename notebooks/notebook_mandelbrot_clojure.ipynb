{
 "cells": [
  {
   "cell_type": "markdown",
   "metadata": {},
   "source": [
    "## The mandelbrot set \n",
    "\n",
    "By: Alex Comerford\n",
    "\n",
    "This is a notebook explaining the mandelbrotset using clojure!"
   ]
  },
  {
   "cell_type": "markdown",
   "metadata": {},
   "source": [
    "## What is the mandelbrot set?\n",
    "\n"
   ]
  },
  {
   "cell_type": "markdown",
   "metadata": {},
   "source": [
    "Todo..."
   ]
  },
  {
   "cell_type": "code",
   "execution_count": 1,
   "metadata": {},
   "outputs": [
    {
     "data": {
      "text/plain": [
       "#'beaker_clojure_shell_d86b9cf6-dcb1-4fae-b99e-4e6850779e37/c+"
      ]
     },
     "execution_count": 1,
     "metadata": {},
     "output_type": "execute_result"
    }
   ],
   "source": [
    "(defn c+ [[re1 im1] [re2 im2]] [(+ re1 re2) (+ im1 im2)])"
   ]
  },
  {
   "cell_type": "code",
   "execution_count": 2,
   "metadata": {},
   "outputs": [
    {
     "data": {
      "text/plain": [
       "[20, 11]"
      ]
     },
     "execution_count": 2,
     "metadata": {},
     "output_type": "execute_result"
    }
   ],
   "source": [
    "(c+ [10 10] [10 1])"
   ]
  },
  {
   "cell_type": "code",
   "execution_count": 3,
   "metadata": {},
   "outputs": [
    {
     "data": {
      "text/plain": [
       "#'beaker_clojure_shell_d86b9cf6-dcb1-4fae-b99e-4e6850779e37/c*"
      ]
     },
     "execution_count": 3,
     "metadata": {},
     "output_type": "execute_result"
    }
   ],
   "source": [
    "(defn c* [[re1 im1] [re2 im2]]\n",
    "  [(- (* re1 re2) (* im1 im2)) (+ (* re1 im2) (* im1 re2))])"
   ]
  },
  {
   "cell_type": "code",
   "execution_count": 4,
   "metadata": {},
   "outputs": [
    {
     "data": {
      "text/plain": [
       "#'beaker_clojure_shell_d86b9cf6-dcb1-4fae-b99e-4e6850779e37/c2"
      ]
     },
     "execution_count": 4,
     "metadata": {},
     "output_type": "execute_result"
    }
   ],
   "source": [
    "(defn c2 [c] (c* c c))"
   ]
  },
  {
   "cell_type": "code",
   "execution_count": 5,
   "metadata": {},
   "outputs": [
    {
     "data": {
      "text/plain": [
       "#'beaker_clojure_shell_d86b9cf6-dcb1-4fae-b99e-4e6850779e37/|c|"
      ]
     },
     "execution_count": 5,
     "metadata": {},
     "output_type": "execute_result"
    }
   ],
   "source": [
    "(defn |c| [[re im]] (Math/sqrt (+ (* re re) (* im im))))"
   ]
  },
  {
   "cell_type": "code",
   "execution_count": 6,
   "metadata": {},
   "outputs": [
    {
     "data": {
      "text/plain": [
       "#'beaker_clojure_shell_d86b9cf6-dcb1-4fae-b99e-4e6850779e37/get-mandel-set"
      ]
     },
     "execution_count": 6,
     "metadata": {},
     "output_type": "execute_result"
    }
   ],
   "source": [
    "(defn get-mandel-set [im-range re-range max-iter]\n",
    "  (for [im im-range\n",
    "        re re-range\n",
    "        :let [c [re im]]]\n",
    "    (loop [z [0 0], cnt -1]\n",
    "      (let [z (c+ (c2 z) c)\n",
    "            cnt (inc cnt)]\n",
    "        (if-not (and (< (|c| z) 4) (< cnt max-iter))\n",
    "          cnt\n",
    "          (recur z cnt))))))"
   ]
  },
  {
   "cell_type": "code",
   "execution_count": 7,
   "metadata": {},
   "outputs": [
    {
     "data": {
      "text/plain": [
       "#'beaker_clojure_shell_d86b9cf6-dcb1-4fae-b99e-4e6850779e37/print-mandel"
      ]
     },
     "execution_count": 7,
     "metadata": {},
     "output_type": "execute_result"
    }
   ],
   "source": [
    "(def mandel (atom \"\"))\n",
    "(defn print-mandel [sz data]\n",
    "  (let [cs [\".\" \",\" \"\\\"\" \"-\" \":\" \"/\" \"(\" \"*\" \"|\" \"$\" \"#\" \"@\" \"%\" \"~\"]]    \n",
    "    (loop [ds data]\n",
    "      (when-not (empty? ds)\n",
    "        (let [cs (map #(nth cs (dec %)) (take sz ds))]\n",
    "          (doseq [c cs] (reset! mandel (str @mandel c)))\n",
    "          (reset! mandel (str @mandel \"\\n\"))\n",
    "          (recur (drop sz ds)))))))"
   ]
  },
  {
   "cell_type": "code",
   "execution_count": 8,
   "metadata": {},
   "outputs": [
    {
     "data": {
      "text/plain": [
       ",,,,,,,,,,,,,,,,,,,,,\"\"\"\"\"\"\"\"\"\"\"\"\"\"\"------::/($~|#~:----\"\"\"\"\"\"\"\"\",,,,,,,,,,\n",
       ",,,,,,,,,,,,,,,,,\"\"\"\"\"\"\"\"\"\"\"\"\"\"\"-------:::/(*|~~~|(/::-----\"\"\"\"\"\"\"\",,,,,,,,\n",
       ",,,,,,,,,,,,,\"\"\"\"\"\"\"\"\"\"\"\"\"\"--------::::///($~~~~~~~|(/::::----\"\"\"\"\"\",,,,,,,\n",
       ",,,,,,,,,,\"\"\"\"\"\"\"\"\"\"\"\"---------:::/**#***|$#~~~~~~%$||((//(~:---\"\"\"\"\",,,,,,\n",
       ",,,,,,\"\"\"\"\"\"\"\"\"\"\"-----------:::://*@~~~~~~~~~~~~~~~~~~~#@~~~~/:--\"\"\"\"\"\",,,,\n",
       ",,,\"\"\"\"\"\"\"\"\"\"\"----:::::::::::///(|~@~~~~~~~~~~~~~~~~~~~~~~~@(/:---\"\"\"\"\",,,,\n",
       ",\"\"\"\"\"\"\"\"\"-----::/|$(//(*((((((*|%~~~~~~~~~~~~~~~~~~~~~~~~~%$$/:--\"\"\"\"\"\",,,\n",
       "\"\"\"\"\"\"\"------:::/(*#~~~@~~%~$||$~~~~~~~~~~~~~~~~~~~~~~~~~~~~~*/:---\"\"\"\"\"\",,\n",
       "\"\"\"\"------::::/((*#@~~~~~~~~~~~~~~~~~~~~~~~~~~~~~~~~~~~~~~~~~$/:---\"\"\"\"\"\",,\n",
       "\"---:::::////(*@%~~~~~~~~~~~~~~~~~~~~~~~~~~~~~~~~~~~~~~~~~~~*/::---\"\"\"\"\"\",,\n",
       "~~~~~~~~~~~~~~~~~~~~~~~~~~~~~~~~~~~~~~~~~~~~~~~~~~~~~~~~~~$*//::---\"\"\"\"\"\",,\n",
       "\"---:::::////(*@%~~~~~~~~~~~~~~~~~~~~~~~~~~~~~~~~~~~~~~~~~~~*/::---\"\"\"\"\"\",,\n",
       "\"\"\"\"------::::/((*#@~~~~~~~~~~~~~~~~~~~~~~~~~~~~~~~~~~~~~~~~~$/:---\"\"\"\"\"\",,\n",
       "\"\"\"\"\"\"\"------:::/(*#~~~@~~%~$||$~~~~~~~~~~~~~~~~~~~~~~~~~~~~~*/:---\"\"\"\"\"\",,\n",
       ",\"\"\"\"\"\"\"\"\"-----::/|$(//(*((((((*|%~~~~~~~~~~~~~~~~~~~~~~~~~%$$/:--\"\"\"\"\"\",,,\n",
       ",,,\"\"\"\"\"\"\"\"\"\"\"----:::::::::::///(|~@~~~~~~~~~~~~~~~~~~~~~~~@(/:---\"\"\"\"\",,,,\n",
       ",,,,,,\"\"\"\"\"\"\"\"\"\"\"-----------:::://*@~~~~~~~~~~~~~~~~~~~#@~~~~/:--\"\"\"\"\"\",,,,\n",
       ",,,,,,,,,,\"\"\"\"\"\"\"\"\"\"\"\"---------:::/**#***|$#~~~~~~%$||((//(~:---\"\"\"\"\",,,,,,\n",
       ",,,,,,,,,,,,,\"\"\"\"\"\"\"\"\"\"\"\"\"\"--------::::///($~~~~~~~|(/::::----\"\"\"\"\"\",,,,,,,\n",
       ",,,,,,,,,,,,,,,,,\"\"\"\"\"\"\"\"\"\"\"\"\"\"\"-------:::/(*|~~~|(/::-----\"\"\"\"\"\"\"\",,,,,,,,\n",
       ",,,,,,,,,,,,,,,,,,,,,\"\"\"\"\"\"\"\"\"\"\"\"\"\"\"------::/($~|#~:----\"\"\"\"\"\"\"\"\",,,,,,,,,,\n"
      ]
     },
     "execution_count": 8,
     "metadata": {},
     "output_type": "execute_result"
    }
   ],
   "source": [
    "(reset! mandel \"\")\n",
    "\n",
    "(->>\n",
    " (get-mandel-set (range -1.0 1.0 0.1) (range -2 1 0.04) 14)\n",
    " (print-mandel 75))\n",
    "\n",
    "@mandel"
   ]
  }
 ],
 "metadata": {
  "kernelspec": {
   "display_name": "Clojure",
   "language": "clojure",
   "name": "clojure"
  },
  "language_info": {
   "codemirror_mode": "Clojure",
   "file_extension": ".clj",
   "mimetype": "text/x-clojure",
   "name": "Clojure",
   "nbconverter_exporter": "",
   "version": "1.9.0"
  },
  "toc": {
   "base_numbering": 1,
   "nav_menu": {},
   "number_sections": false,
   "sideBar": false,
   "skip_h1_title": false,
   "title_cell": "Table of Contents",
   "title_sidebar": "Contents",
   "toc_cell": false,
   "toc_position": {},
   "toc_section_display": false,
   "toc_window_display": false
  }
 },
 "nbformat": 4,
 "nbformat_minor": 2
}

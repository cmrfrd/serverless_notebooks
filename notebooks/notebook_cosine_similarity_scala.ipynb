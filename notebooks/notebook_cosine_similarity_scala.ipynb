{
 "cells": [
  {
   "cell_type": "markdown",
   "metadata": {},
   "source": [
    "## Cosine similarity!\n",
    "\n",
    "By: Alex Comerford (alexanderjcomerford@gmail.com)\n",
    "\n",
    "In this notebook we will be explaining what is cosine similarity!\n",
    "\n",
    "This notebook will be provided as a tutorial and as a service ready function for execution from within OpenFaas. This means that any modifications that are added to this notebook can be deployed and propogated throughout all the consumers of this function, so be careful what you edit before you deploy!"
   ]
  },
  {
   "cell_type": "markdown",
   "metadata": {},
   "source": [
    "### Paramaters\n",
    "\n",
    "First we will start this notebook with a set list of paramaters defining the context in which we are executing this notebook"
   ]
  },
  {
   "cell_type": "code",
   "execution_count": 28,
   "metadata": {
    "tags": [
     "parameters"
    ]
   },
   "outputs": [
    {
     "data": {
      "text/plain": [
       "null"
      ]
     },
     "execution_count": 28,
     "metadata": {},
     "output_type": "execute_result"
    }
   ],
   "source": [
    "// MATRIX_A/B will be used as paramaters when executing Cosine similarity\n",
    "// as a service. By default they are sample values\n",
    "val VECTOR_A = List(0,1,2)\n",
    "val VECTOR_B = List(4,5,6)\n",
    "\n",
    "// No output to clutter the notebook\n",
    "null"
   ]
  },
  {
   "cell_type": "markdown",
   "metadata": {},
   "source": [
    "## What is Cosine similarity??\n",
    "\n",
    "Cosine similarity can be defined as follows in Latex"
   ]
  },
  {
   "cell_type": "code",
   "execution_count": 29,
   "metadata": {},
   "outputs": [
    {
     "data": {
      "text/latex": [
       "$\n",
       "\\begin{equation}\n",
       "\\cos ({\\bf A},{\\bf B}) = {{\\bf A} {\\bf B} \\over \\|{\\bf A}\\| \\|{\\bf B}\\|} = \\frac{ \\sum_{i=1}^{n}{{\\bf A}_i{\\bf B}_i} }{ \\sqrt{\\sum_{i=1}^{n}{({\\bf A}_i)^2}} \\sqrt{\\sum_{i=1}^{n}{({\\bf B}_i)^2}} }\n",
       "\\end{equation}\n",
       "$"
      ]
     },
     "metadata": {},
     "output_type": "display_data"
    }
   ],
   "source": [
    "display(Latex(\"\"\"$\n",
    "\\begin{equation}\n",
    "\\cos ({\\bf A},{\\bf B}) = {{\\bf A} {\\bf B} \\over \\|{\\bf A}\\| \\|{\\bf B}\\|} = \\frac{ \\sum_{i=1}^{n}{{\\bf A}_i{\\bf B}_i} }{ \\sqrt{\\sum_{i=1}^{n}{({\\bf A}_i)^2}} \\sqrt{\\sum_{i=1}^{n}{({\\bf B}_i)^2}} }\n",
    "\\end{equation}\n",
    "$\"\"\"))"
   ]
  },
  {
   "cell_type": "markdown",
   "metadata": {},
   "source": [
    "Cosine similarity is a metric for measuring the distance between two vectors.\n",
    "\n",
    "The outputs we can expect are from `-1` to `1`, dissimilar to similar respectively.\n",
    "\n",
    "This is a widely used function in several different disciplines especially natural language processing (nlp). One such example in nlp can be word counts across sentences. Sentences with similar word counts will have higher cosine similarity and therefore can be though of as more related!\n",
    "\n",
    "Cosine similarity can be used in several other domains where some properties of the instances make so that the weights might be larger without meaning anything different. Sensor values that were captured in various lengths (in time) between instances could be such an example.\n",
    "\n",
    "Below we will implement an `object` in scala to compute the cosine similarity of two \"vectors\" (actually type `List`) as a demonstration ."
   ]
  },
  {
   "cell_type": "code",
   "execution_count": 30,
   "metadata": {},
   "outputs": [
    {
     "data": {
      "text/plain": [
       "$line54.$read$$iw$$iw$$iw$$iw$$iw$$iw$$iw$$iw$$iw$$iw$$iw$$iw$$iw$$iw$$iw$$iw$$iw$$iw$$iw$$iw$CosineSimilarity$@354f5552"
      ]
     },
     "execution_count": 30,
     "metadata": {},
     "output_type": "execute_result"
    }
   ],
   "source": [
    "object CosineSimilarity {\n",
    "  \n",
    "  /*\n",
    "   * This method takes 2 equal length arrays of integers \n",
    "   * It returns a double representing similarity of the 2 arrays\n",
    "   * 0.9925 would be 99.25% similar\n",
    "   * (x dot y)/||X|| ||Y||\n",
    "   */\n",
    "  def cosineSimilarity(x: Array[Double], y: Array[Double]): Double = {\n",
    "    \n",
    "    // ensure similary \n",
    "    require(x.size == y.size)\n",
    "    dotProduct(x, y)/(magnitude(x) * magnitude(y))\n",
    "  }\n",
    "  \n",
    "  /*\n",
    "   * Return the dot product of the 2 arrays\n",
    "   * e.g. (a[0]*b[0])+(a[1]*a[2])\n",
    "   */\n",
    "  def dotProduct(x: Array[Double], y: Array[Double]): Double = {\n",
    "    (for((a, b) <- x zip y) yield a * b) sum\n",
    "  }\n",
    "  \n",
    "  /*\n",
    "   * Return the magnitude of an array\n",
    "   * We multiply each element, sum it, then square root the result.\n",
    "   */\n",
    "  def magnitude(x: Array[Double]): Double = {\n",
    "    math.sqrt(x map(i => i*i) sum)\n",
    "  }\n",
    "  \n",
    "}"
   ]
  },
  {
   "cell_type": "markdown",
   "metadata": {},
   "source": [
    "Now that we have an implementation of cosine similarity we can test it with whatever values we want! In the next cell we will take the paramater input from the top cell and calculate their cosine similarity and print it to `stdout` from within this notebook."
   ]
  },
  {
   "cell_type": "code",
   "execution_count": 31,
   "metadata": {},
   "outputs": [
    {
     "data": {
      "text/plain": [
       "0.8664002254439633"
      ]
     },
     "execution_count": 31,
     "metadata": {},
     "output_type": "execute_result"
    }
   ],
   "source": [
    "// Convert vectors to Arrays of type Double\n",
    "var A = VECTOR_A.toArray.map(_.toDouble)\n",
    "var B = VECTOR_B.toArray.map(_.toDouble)\n",
    "\n",
    "// Compute their cosine similarity\n",
    "CosineSimilarity.cosineSimilarity(A,B)"
   ]
  }
 ],
 "metadata": {
  "kernelspec": {
   "display_name": "Scala",
   "language": "scala",
   "name": "scala"
  },
  "language_info": {
   "codemirror_mode": "text/x-scala",
   "file_extension": ".scala",
   "mimetype": "",
   "name": "Scala",
   "nbconverter_exporter": "",
   "version": "2.11.12"
  }
 },
 "nbformat": 4,
 "nbformat_minor": 2
}
